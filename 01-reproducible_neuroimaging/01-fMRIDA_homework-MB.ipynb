{
 "cells": [
  {
   "cell_type": "markdown",
   "metadata": {},
   "source": [
    "# Advanced fMRI data analysis \n",
    "## Homework for courses: \n",
    "- #1 Introduction\n",
    "- #2 Reproducible neuroimaging"
   ]
  },
  {
   "cell_type": "markdown",
   "metadata": {},
   "source": [
    "In this assignment, your task is to answer a few questions related to neuroimaging using Markdown.  \n",
    "\n",
    "You can choose to answer in Polish or English (it will not affect your grade).\n",
    "\n",
    "Write answers in your **own words**, as you would like to explain a friend (do not copy from Wikipedia!). \n",
    "\n",
    "Use Markdown formatting options as much as possible!\n",
    "\n",
    "\n",
    "**DEADLINE:** 20-03-2020\n",
    "\n",
    "\n",
    "--------------------\n"
   ]
  },
  {
   "cell_type": "markdown",
   "metadata": {},
   "source": [
    "**1. Explain in your *own words* how fMRI works (2-3 sentences).**"
   ]
  },
  {
   "cell_type": "markdown",
   "metadata": {},
   "source": [
    "The subject (human or another animal) is being placed in a strong magnetic field, which aligns the spins of protons in atoms with odd number of protons (mostly hydrogen atoms from water molecules). Putative impulses of radio waves are then being applied in order to \"knock these protons out of balance\". This creates short signals (which fade quickly due to subsequent realignment of spins of protons) of different magnitudes, depending on which areas in a given moment contain the most hydrogen (or water/blood, in which it is mostly contained)."
   ]
  },
  {
   "cell_type": "markdown",
   "metadata": {},
   "source": [
    "**2. Explain in your *own words* the term *BOLD signal* (2-3 sentences).**"
   ]
  },
  {
   "cell_type": "markdown",
   "metadata": {},
   "source": [
    "BOLD (Blood Oxygen Level Dependent) signal comes from differences in the supply of oxygenated blood to the neural tissue, as compared between different brain regions. Brain areas, whose activity increases, are being supplied with more oxygenated blood. Since a huge portion of blood is water (and hydrogen atoms in the water are the main direct source of fMRI signal), these areas are seen as more active in fMRI."
   ]
  },
  {
   "cell_type": "markdown",
   "metadata": {},
   "source": [
    "**3. Make a table (two columns) with advantages and disadvantages of fMRI.**"
   ]
  },
  {
   "cell_type": "markdown",
   "metadata": {},
   "source": [
    "| Advantages | Disadvantages |\n",
    "|------------|---------------|\n",
    "| High spatial resolution (down to 3 mm^3) | Low temporal resolution (about 2 Hz) | \n",
    "| Safe in most cases (unless subjects have, for example, metals permanently in their bodies) | High cost |\n",
    "|   | Measures only cerebral blood flow (CBF), which is only an indirect measure of neuronal activity |\n",
    "|   | The subjects must stay completely still |\n",
    "|   | Incomfortable conditions for subjects: noise, darkness, confined spaces (therefore fMRI is not viable for investigating neuronal correlates of claustrophobia) |"
   ]
  },
  {
   "cell_type": "markdown",
   "metadata": {},
   "source": [
    "**4. Explain in your *own words* what *reproducible research* is.**\n",
    "Highly recomended video: [From interactive exploration to reproducible data science](https://www.youtube.com/watch?v=xOKPKiAhey4).\n"
   ]
  },
  {
   "cell_type": "markdown",
   "metadata": {},
   "source": [
    "Reproducibility means that independent groups of researchers applying the same (or as close as possible) methods, tools, procedures to comparable groups of subjects will be consistently obtaining similar results."
   ]
  },
  {
   "cell_type": "markdown",
   "metadata": {},
   "source": [
    "**5. Make a *list* with good neuroimaging research practices that improve reproducibility of results.**"
   ]
  },
  {
   "cell_type": "markdown",
   "metadata": {},
   "source": [
    "* Pre-register your research and publish even negative results.\n",
    "* Extensively and exhaustively describe your methodology.\n",
    "* Make sure that the methodology you preplanned is the same one that you implemented in your study and described in the paper. \n",
    "* Try to take into account as many biases, errors and limitations of your research as possible (and reasonable) and also include them in your paper.\n",
    "* Maybe try to reproduce some research (especially if it's influential, controversial and/or underreproduced) instead of looking for another revolutionary idea.\n",
    "* If you are trying to reproduce some findings, make sure that you are using the same methodology as the original study.\n",
    "* When planning your research, consider whether any of its possible results really supports/falsifies your hypothesis."
   ]
  },
  {
   "cell_type": "code",
   "execution_count": null,
   "metadata": {},
   "outputs": [],
   "source": []
  }
 ],
 "metadata": {
  "kernelspec": {
   "display_name": "Python 3",
   "language": "python",
   "name": "python3"
  },
  "language_info": {
   "codemirror_mode": {
    "name": "ipython",
    "version": 3
   },
   "file_extension": ".py",
   "mimetype": "text/x-python",
   "name": "python",
   "nbconvert_exporter": "python",
   "pygments_lexer": "ipython3",
   "version": "3.7.3"
  }
 },
 "nbformat": 4,
 "nbformat_minor": 4
}
